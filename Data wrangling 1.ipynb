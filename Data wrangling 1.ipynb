{
 "cells": [
  {
   "cell_type": "code",
   "execution_count": 5,
   "id": "3b928920",
   "metadata": {},
   "outputs": [
    {
     "name": "stdout",
     "output_type": "stream",
     "text": [
      "    Name  Age\n",
      "0    Ram   20\n",
      "1  Vinay   21\n",
      "2    Sai   22\n"
     ]
    }
   ],
   "source": [
    "import pandas as pd\n",
    "d1={\"Name\":[\"Ram\",\"Vinay\",\"Sai\"],\"Age\":[20,21,22]}\n",
    "d2={\"Qualified\":[True,True,False]}\n",
    "d1=pd.DataFrame(d1)\n",
    "print(d1)"
   ]
  },
  {
   "cell_type": "code",
   "execution_count": 4,
   "id": "aff9784c",
   "metadata": {},
   "outputs": [
    {
     "name": "stdout",
     "output_type": "stream",
     "text": [
      "   Qualified\n",
      "0       True\n",
      "1       True\n",
      "2      False\n",
      "    Name  Age  Qualified\n",
      "0    Ram   20       True\n",
      "1  Vinay   21       True\n",
      "2    Sai   22      False\n"
     ]
    }
   ],
   "source": [
    "d2=pd.DataFrame(d2)\n",
    "print(d2)\n",
    "newd=d1.join(d2)\n",
    "print(newd)"
   ]
  },
  {
   "cell_type": "code",
   "execution_count": 9,
   "id": "91a87a02",
   "metadata": {},
   "outputs": [
    {
     "name": "stdout",
     "output_type": "stream",
     "text": [
      "    Name  Age\n",
      "0    Ram   20\n",
      "1  Vinay   21\n",
      "2    Sai   22\n",
      "   Name_x  Age Name_y\n",
      "0     Raj   20    Ram\n",
      "1  Vishal   21  Vinay\n",
      "2    Siva   22    Sai\n"
     ]
    }
   ],
   "source": [
    "d1={\"Name\":[\"Ram\",\"Vinay\",\"Sai\"],\"Age\":[20,21,22]}\n",
    "d2={\"Name\":[\"Raj\",\"Vishal\",\"Siva\"],\"Age\":[20,21,22]}\n",
    "df1=pd.DataFrame(d1)\n",
    "print(df1)\n",
    "df2=pd.DataFrame(d2)\n",
    "newdf1=df2.merge(df1,on='Age')\n",
    "print(newdf1)"
   ]
  },
  {
   "cell_type": "code",
   "execution_count": 14,
   "id": "3433f2a3",
   "metadata": {},
   "outputs": [
    {
     "name": "stdout",
     "output_type": "stream",
     "text": [
      "   Team  variable  value\n",
      "0     A    Points     90\n",
      "1     B    Points     56\n",
      "2     C    Points     78\n",
      "3     D    Points     88\n",
      "4     A    Assits     12\n",
      "5     B    Assits     34\n",
      "6     C    Assits     23\n",
      "7     D    Assits     44\n",
      "8     A  Rebounds     56\n",
      "9     B  Rebounds     43\n",
      "10    C  Rebounds     55\n",
      "11    D  Rebounds     12\n"
     ]
    }
   ],
   "source": [
    "df=pd.DataFrame({\"Team\":[\"A\",\"B\",\"C\",\"D\"],\"Points\":[90,56,78,88],\"Assits\":[12,34,23,44],\"Rebounds\":[56,43,55,12]})\n",
    "x=pd.melt(df,id_vars=\"Team\",value_vars=[\"Points\",\"Assits\",\"Rebounds\"])\n",
    "print(x)"
   ]
  },
  {
   "cell_type": "code",
   "execution_count": null,
   "id": "b96a72ea",
   "metadata": {},
   "outputs": [],
   "source": []
  }
 ],
 "metadata": {
  "kernelspec": {
   "display_name": "Python 3 (ipykernel)",
   "language": "python",
   "name": "python3"
  },
  "language_info": {
   "codemirror_mode": {
    "name": "ipython",
    "version": 3
   },
   "file_extension": ".py",
   "mimetype": "text/x-python",
   "name": "python",
   "nbconvert_exporter": "python",
   "pygments_lexer": "ipython3",
   "version": "3.11.4"
  }
 },
 "nbformat": 4,
 "nbformat_minor": 5
}
