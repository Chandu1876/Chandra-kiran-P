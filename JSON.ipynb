{
 "cells": [
  {
   "cell_type": "code",
   "execution_count": 5,
   "id": "486e3220",
   "metadata": {},
   "outputs": [],
   "source": [
    "f=open(\"D:/JD.txt\",\"w\")\n",
    "f.write(\"Wake up early\\n\")\n",
    "f.write(\"Read daily \\n\")\n",
    "f.write(\"Pray to God \\n\")\n",
    "f.close()"
   ]
  },
  {
   "cell_type": "code",
   "execution_count": 7,
   "id": "17af5896",
   "metadata": {},
   "outputs": [
    {
     "name": "stdout",
     "output_type": "stream",
     "text": [
      "Wake up early\n",
      "\n",
      "Read daily \n",
      "\n",
      "Pray to God \n",
      "\n"
     ]
    }
   ],
   "source": [
    "a=open(\"D:/JD.txt\",\"r\")\n",
    "print(a.readline())\n",
    "print(a.readline())\n",
    "print(a.readline())\n",
    "a.close()"
   ]
  },
  {
   "cell_type": "code",
   "execution_count": 8,
   "id": "85f434a1",
   "metadata": {},
   "outputs": [
    {
     "name": "stdout",
     "output_type": "stream",
     "text": [
      "Wake up early\n",
      "Read daily \n",
      "Pray to God \n",
      "Help others \n",
      "Be smart \n",
      "\n"
     ]
    }
   ],
   "source": [
    "b=open(\"D:/JD.txt\",\"a\")\n",
    "b.write(\"Help others \\n\")\n",
    "b.write(\"Be smart \\n\")\n",
    "b.close()\n",
    "c=open(\"D:/JD.txt\",\"r\")\n",
    "print(c.read())\n",
    "c.close()"
   ]
  },
  {
   "cell_type": "code",
   "execution_count": 10,
   "id": "e4e80b73",
   "metadata": {},
   "outputs": [
    {
     "name": "stdout",
     "output_type": "stream",
     "text": [
      "['Wake up early\\n', 'Read daily \\n', 'Pray to God \\n', 'Help others \\n', 'Be smart \\n']\n"
     ]
    }
   ],
   "source": [
    "with open(\"D:/JD.txt\",\"r\") as f:\n",
    "    lines=f.readlines()\n",
    "    print(lines)"
   ]
  },
  {
   "cell_type": "code",
   "execution_count": 15,
   "id": "4da81a3d",
   "metadata": {},
   "outputs": [
    {
     "name": "stdout",
     "output_type": "stream",
     "text": [
      "London\n"
     ]
    }
   ],
   "source": [
    "import json\n",
    "X='{\"Name\":\"Sai\",\"Age\":20,\"City\":\"London\"}'\n",
    "y=json.loads(X)\n",
    "print(y[\"City\"])"
   ]
  },
  {
   "cell_type": "code",
   "execution_count": null,
   "id": "74d1b5e2",
   "metadata": {},
   "outputs": [],
   "source": []
  },
  {
   "cell_type": "code",
   "execution_count": null,
   "id": "18c2ae2b",
   "metadata": {},
   "outputs": [],
   "source": []
  }
 ],
 "metadata": {
  "kernelspec": {
   "display_name": "Python 3 (ipykernel)",
   "language": "python",
   "name": "python3"
  },
  "language_info": {
   "codemirror_mode": {
    "name": "ipython",
    "version": 3
   },
   "file_extension": ".py",
   "mimetype": "text/x-python",
   "name": "python",
   "nbconvert_exporter": "python",
   "pygments_lexer": "ipython3",
   "version": "3.11.4"
  }
 },
 "nbformat": 4,
 "nbformat_minor": 5
}
