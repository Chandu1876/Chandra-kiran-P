{
 "cells": [
  {
   "cell_type": "code",
   "execution_count": 10,
   "id": "d0ba9c75",
   "metadata": {
    "scrolled": true
   },
   "outputs": [
    {
     "name": "stdout",
     "output_type": "stream",
     "text": [
      "       A      B  C  D  E\n",
      "0    Sai    one  1  2  2\n",
      "1   Subu    two  2  0  3\n",
      "2  Divya  three  4  1  3\n",
      "3   Yuvi    one  1  1  3\n",
      "4  Rithi  three  1  1  3\n",
      "5  Sanju    two  1  1  0\n"
     ]
    }
   ],
   "source": [
    "import pandas as pd\n",
    "import numpy as np\n",
    "df=pd.DataFrame({'A':['Sai','Subu','Divya','Yuvi','Rithi','Sanju'],'B':['one','two','three','one','three','two'],'C':np.random.randint(5,size=6),'D':np.random.randint(5,size=6),'E':np.random.randint(5,size=6)})\n",
    "print(df)"
   ]
  },
  {
   "cell_type": "code",
   "execution_count": 5,
   "id": "d3d39022",
   "metadata": {},
   "outputs": [
    {
     "name": "stdout",
     "output_type": "stream",
     "text": [
      "       A  C\n",
      "0    Poo  0\n",
      "1  Rithi  3\n",
      "2    Sai  8\n",
      "3  Sanju  4\n",
      "4    Sub  4\n",
      "5   Yuvi  4\n"
     ]
    }
   ],
   "source": [
    "import pandas as pd\n",
    "import numpy as np\n",
    "df=pd.DataFrame({'A':['Sai','Poo','Sub','Yuvi','Rithi','Sanju','Sai','Poo'],'B':['one','two','three','one','three','two','one','two'],'C':np.random.randint(5,size=8),'D':np.random.randint(5,size=8),'E':np.random.randint(5,size=8)})\n",
    "df1=df.groupby(['A'],as_index=False)['C'].sum()\n",
    "print(df1)"
   ]
  },
  {
   "cell_type": "code",
   "execution_count": 14,
   "id": "8677e8ce",
   "metadata": {},
   "outputs": [
    {
     "name": "stdout",
     "output_type": "stream",
     "text": [
      "Original dataframe:\n",
      "   Category  Sales  Profit\n",
      "0        A    100      10\n",
      "1        B    200      15\n",
      "2        C    150      20\n",
      "3        A    150      25\n",
      "4        B    130      30\n",
      "5        C    200      15\n"
     ]
    }
   ],
   "source": [
    "import pandas as pd\n",
    "import numpy as np\n",
    "df=pd.DataFrame({'Category':['A','B','C','A','B','C'],'Sales':[100,200,150,150,130,200],'Profit':[10,15,20,25,30,15]})\n",
    "print(\"Original dataframe:\\n\",df)"
   ]
  },
  {
   "cell_type": "code",
   "execution_count": 15,
   "id": "8d39b3e7",
   "metadata": {},
   "outputs": [
    {
     "name": "stdout",
     "output_type": "stream",
     "text": [
      "         Sales        Profit    \n",
      "           sum   mean    sum max\n",
      "Category                        \n",
      "A          250  125.0     35  25\n",
      "B          330  165.0     45  30\n",
      "C          350  175.0     35  20\n"
     ]
    }
   ],
   "source": [
    "df_g=a.groupby('Category').agg({'Sales':['sum','mean'],'Profit':['sum','max']})\n",
    "print(df_g)"
   ]
  }
 ],
 "metadata": {
  "kernelspec": {
   "display_name": "Python 3 (ipykernel)",
   "language": "python",
   "name": "python3"
  },
  "language_info": {
   "codemirror_mode": {
    "name": "ipython",
    "version": 3
   },
   "file_extension": ".py",
   "mimetype": "text/x-python",
   "name": "python",
   "nbconvert_exporter": "python",
   "pygments_lexer": "ipython3",
   "version": "3.11.4"
  }
 },
 "nbformat": 4,
 "nbformat_minor": 5
}
