{
  "nbformat": 4,
  "nbformat_minor": 0,
  "metadata": {
    "colab": {
      "provenance": []
    },
    "kernelspec": {
      "name": "python3",
      "display_name": "Python 3"
    },
    "language_info": {
      "name": "python"
    }
  },
  "cells": [
    {
      "cell_type": "code",
      "execution_count": 3,
      "metadata": {
        "colab": {
          "base_uri": "https://localhost:8080/"
        },
        "id": "Qk1vcLmO3LUM",
        "outputId": "98adab9e-e9c5-4c9c-c516-9c5dcb590bee"
      },
      "outputs": [
        {
          "output_type": "stream",
          "name": "stdout",
          "text": [
            "   Unnamed: 0  S. No  ...  Social  Total\n",
            "0           0      1  ...      76    409\n",
            "1           1      2  ...      77    410\n",
            "2           2      3  ...      78    460\n",
            "3           3      4  ...      79    430\n",
            "4           4      5  ...      80    450\n",
            "5           5      6  ...      81    460\n",
            "6           6      7  ...      83    470\n",
            "7           7      8  ...      84    480\n",
            "8           8      9  ...      85    490\n",
            "9           9     10  ...      90    390\n",
            "\n",
            "[10 rows x 9 columns]\n"
          ]
        }
      ],
      "source": [
        "import pandas as pd\n",
        "pd.set_option('display.max_column',5)\n",
        "df=pd.read_excel(\"Marks.xlsx\")\n",
        "print(df)"
      ]
    },
    {
      "cell_type": "code",
      "source": [
        "k=df.fillna(method='pad')\n",
        "print(k)\n",
        "print(\"Uploaded line\\n\")\n",
        "k.to_excel(\"Marks.xlsx\")"
      ],
      "metadata": {
        "colab": {
          "base_uri": "https://localhost:8080/"
        },
        "id": "aAf6asft3uJn",
        "outputId": "181eafa5-9df5-4e87-df5d-f9f7dd6e5ab7"
      },
      "execution_count": 4,
      "outputs": [
        {
          "output_type": "stream",
          "name": "stdout",
          "text": [
            "   Unnamed: 0  S. No  ...  Social  Total\n",
            "0           0      1  ...      76    409\n",
            "1           1      2  ...      77    410\n",
            "2           2      3  ...      78    460\n",
            "3           3      4  ...      79    430\n",
            "4           4      5  ...      80    450\n",
            "5           5      6  ...      81    460\n",
            "6           6      7  ...      83    470\n",
            "7           7      8  ...      84    480\n",
            "8           8      9  ...      85    490\n",
            "9           9     10  ...      90    390\n",
            "\n",
            "[10 rows x 9 columns]\n",
            "Uploaded line\n",
            "\n"
          ]
        },
        {
          "output_type": "stream",
          "name": "stderr",
          "text": [
            "<ipython-input-4-cb9f38a8f031>:1: FutureWarning: DataFrame.fillna with 'method' is deprecated and will raise in a future version. Use obj.ffill() or obj.bfill() instead.\n",
            "  k=df.fillna(method='pad')\n"
          ]
        }
      ]
    },
    {
      "cell_type": "code",
      "source": [
        "k.drop(['Social'],axis=1,inplace=True)\n",
        "print(k)\n",
        "k.to_excel(\"Marks.xlsx\")"
      ],
      "metadata": {
        "colab": {
          "base_uri": "https://localhost:8080/"
        },
        "id": "iJEfOKSU45fi",
        "outputId": "ffdde23b-5365-4388-84bb-0803d06ee77d"
      },
      "execution_count": 8,
      "outputs": [
        {
          "output_type": "stream",
          "name": "stdout",
          "text": [
            "   Unnamed: 0  S. No  ...  Science  Total\n",
            "0           0      1  ...       65    409\n",
            "1           1      2  ...       69    410\n",
            "2           2      3  ...       99    460\n",
            "3           3      4  ...       89    430\n",
            "4           4      5  ...       90    450\n",
            "5           5      6  ...       98    460\n",
            "6           6      7  ...       87    470\n",
            "7           7      8  ...       92    480\n",
            "8           8      9  ...       98    490\n",
            "9           9     10  ...      100    390\n",
            "\n",
            "[10 rows x 8 columns]\n"
          ]
        }
      ]
    },
    {
      "cell_type": "code",
      "source": [
        "print(\"Drop NaN row:\\n\")\n",
        "df=pd.read_excel(\"Marks.xlsx\")\n",
        "print(df)\n",
        "x=df.dropna()\n",
        "print(x)\n",
        "x.to_excel(\"Marks.xlsx\")"
      ],
      "metadata": {
        "colab": {
          "base_uri": "https://localhost:8080/"
        },
        "id": "gcZscLYS5MW6",
        "outputId": "779ce494-af51-412e-dce2-b87b3cb2be3b"
      },
      "execution_count": 11,
      "outputs": [
        {
          "output_type": "stream",
          "name": "stdout",
          "text": [
            "Drop NaN row:\n",
            "\n",
            "   Unnamed: 0.2  Unnamed: 0.1  ...  Science  Total\n",
            "0             0             0  ...       65    409\n",
            "1             1             1  ...       69    410\n",
            "2             2             2  ...       99    460\n",
            "3             3             3  ...       89    430\n",
            "4             4             4  ...       90    450\n",
            "5             5             5  ...       98    460\n",
            "6             6             6  ...       87    470\n",
            "7             7             7  ...       92    480\n",
            "8             8             8  ...       98    490\n",
            "9             9             9  ...      100    390\n",
            "\n",
            "[10 rows x 10 columns]\n",
            "   Unnamed: 0.2  Unnamed: 0.1  ...  Science  Total\n",
            "0             0             0  ...       65    409\n",
            "1             1             1  ...       69    410\n",
            "2             2             2  ...       99    460\n",
            "3             3             3  ...       89    430\n",
            "4             4             4  ...       90    450\n",
            "5             5             5  ...       98    460\n",
            "6             6             6  ...       87    470\n",
            "7             7             7  ...       92    480\n",
            "8             8             8  ...       98    490\n",
            "9             9             9  ...      100    390\n",
            "\n",
            "[10 rows x 10 columns]\n"
          ]
        }
      ]
    },
    {
      "cell_type": "code",
      "source": [
        "print(\"Replace values:\\n\")\n",
        "n=pd.read_excel(\"Marks.xlsx\")\n",
        "print(n)\n",
        "y=n.replace({80:90})\n",
        "print(y)\n",
        "y.to_excel(\"Marks.xlsx\")"
      ],
      "metadata": {
        "colab": {
          "base_uri": "https://localhost:8080/"
        },
        "id": "M3LLcEzl9Et_",
        "outputId": "e71ba7c2-1ff2-4f62-ce7a-9a981e41f149"
      },
      "execution_count": 12,
      "outputs": [
        {
          "output_type": "stream",
          "name": "stdout",
          "text": [
            "Replace values:\n",
            "\n",
            "   Unnamed: 0.3  Unnamed: 0.2  ...  Science  Total\n",
            "0             0             0  ...       65    409\n",
            "1             1             1  ...       69    410\n",
            "2             2             2  ...       99    460\n",
            "3             3             3  ...       89    430\n",
            "4             4             4  ...       90    450\n",
            "5             5             5  ...       98    460\n",
            "6             6             6  ...       87    470\n",
            "7             7             7  ...       92    480\n",
            "8             8             8  ...       98    490\n",
            "9             9             9  ...      100    390\n",
            "\n",
            "[10 rows x 11 columns]\n",
            "   Unnamed: 0.3  Unnamed: 0.2  ...  Science  Total\n",
            "0             0             0  ...       65    409\n",
            "1             1             1  ...       69    410\n",
            "2             2             2  ...       99    460\n",
            "3             3             3  ...       89    430\n",
            "4             4             4  ...       90    450\n",
            "5             5             5  ...       98    460\n",
            "6             6             6  ...       87    470\n",
            "7             7             7  ...       92    480\n",
            "8             8             8  ...       98    490\n",
            "9             9             9  ...      100    390\n",
            "\n",
            "[10 rows x 11 columns]\n"
          ]
        }
      ]
    },
    {
      "cell_type": "code",
      "source": [
        "df=pd.read_excel(\"Marks.xlsx\")\n",
        "print(df)\n",
        "print(\"Extract using isin() function:\\n\")\n",
        "new=df['Maths'].isin([90])\n",
        "print(df[new])"
      ],
      "metadata": {
        "colab": {
          "base_uri": "https://localhost:8080/"
        },
        "id": "WScJ4dvD9jj5",
        "outputId": "ea7e660e-f4cb-4bdd-a9a0-319ad00f3ea1"
      },
      "execution_count": 16,
      "outputs": [
        {
          "output_type": "stream",
          "name": "stdout",
          "text": [
            "   Unnamed: 0.4  Unnamed: 0.3  ...  Science  Total\n",
            "0             0             0  ...       65    409\n",
            "1             1             1  ...       69    410\n",
            "2             2             2  ...       99    460\n",
            "3             3             3  ...       89    430\n",
            "4             4             4  ...       90    450\n",
            "5             5             5  ...       98    460\n",
            "6             6             6  ...       87    470\n",
            "7             7             7  ...       92    480\n",
            "8             8             8  ...       98    490\n",
            "9             9             9  ...      100    390\n",
            "\n",
            "[10 rows x 12 columns]\n",
            "Extract using isin() function:\n",
            "\n",
            "   Unnamed: 0.4  Unnamed: 0.3  ...  Science  Total\n",
            "0             0             0  ...       65    409\n",
            "\n",
            "[1 rows x 12 columns]\n"
          ]
        }
      ]
    }
  ]
}
