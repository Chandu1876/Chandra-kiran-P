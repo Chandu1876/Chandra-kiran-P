{
 "cells": [
  {
   "cell_type": "code",
   "execution_count": 4,
   "id": "402fab45",
   "metadata": {},
   "outputs": [
    {
     "name": "stdout",
     "output_type": "stream",
     "text": [
      "(array([1, 4], dtype=int64),)\n"
     ]
    }
   ],
   "source": [
    "import numpy as np\n",
    "a=np.array([1,6,2,7,6,4])\n",
    "x=np.where(a==6)\n",
    "print(x)"
   ]
  },
  {
   "cell_type": "code",
   "execution_count": 11,
   "id": "1aa2b062",
   "metadata": {},
   "outputs": [
    {
     "name": "stdout",
     "output_type": "stream",
     "text": [
      "4\n"
     ]
    }
   ],
   "source": [
    "import numpy as np\n",
    "a=np.array([0,1,2,2,7,8,9])\n",
    "x=np.searchsorted(a,3,side='left')\n",
    "print(x)"
   ]
  },
  {
   "cell_type": "code",
   "execution_count": 10,
   "id": "ceac8b85",
   "metadata": {},
   "outputs": [
    {
     "name": "stdout",
     "output_type": "stream",
     "text": [
      "[2 4 5 6 7 9]\n"
     ]
    }
   ],
   "source": [
    "import numpy as np\n",
    "a=np.array([9,5,2,7,6,4])\n",
    "print(np.sort(a))"
   ]
  },
  {
   "cell_type": "code",
   "execution_count": 12,
   "id": "8874ece0",
   "metadata": {},
   "outputs": [
    {
     "name": "stdout",
     "output_type": "stream",
     "text": [
      "[False, True, False, True]\n",
      "[78 88]\n"
     ]
    }
   ],
   "source": [
    "import numpy as np\n",
    "a=np.array([31,78,69,88])\n",
    "x=[False,True,False,True]\n",
    "b=a[x]\n",
    "print(x)\n",
    "print(b)"
   ]
  },
  {
   "cell_type": "code",
   "execution_count": 13,
   "id": "9e2074e1",
   "metadata": {},
   "outputs": [
    {
     "name": "stdout",
     "output_type": "stream",
     "text": [
      "[ True False  True False]\n",
      "[31 69]\n"
     ]
    }
   ],
   "source": [
    "import numpy as np\n",
    "a=np.array([31,78,69,88])\n",
    "b=a<70\n",
    "c=a[b]\n",
    "print(b)\n",
    "print(c)"
   ]
  },
  {
   "cell_type": "code",
   "execution_count": null,
   "id": "ff215c44",
   "metadata": {},
   "outputs": [],
   "source": []
  }
 ],
 "metadata": {
  "kernelspec": {
   "display_name": "Python 3 (ipykernel)",
   "language": "python",
   "name": "python3"
  },
  "language_info": {
   "codemirror_mode": {
    "name": "ipython",
    "version": 3
   },
   "file_extension": ".py",
   "mimetype": "text/x-python",
   "name": "python",
   "nbconvert_exporter": "python",
   "pygments_lexer": "ipython3",
   "version": "3.11.4"
  }
 },
 "nbformat": 4,
 "nbformat_minor": 5
}
