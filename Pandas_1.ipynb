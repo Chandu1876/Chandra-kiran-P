{
  "cells": [
    {
      "cell_type": "code",
      "execution_count": null,
      "id": "26294a18",
      "metadata": {
        "id": "26294a18",
        "outputId": "d5ff7cb4-91b9-4cda-f631-b1167152e203"
      },
      "outputs": [
        {
          "name": "stdout",
          "output_type": "stream",
          "text": [
            "Empty DataFrame\n",
            "Columns: []\n",
            "Index: []\n"
          ]
        }
      ],
      "source": [
        "import pandas as pd\n",
        "a=pd.DataFrame()\n",
        "print(a)"
      ]
    },
    {
      "cell_type": "code",
      "execution_count": null,
      "id": "62a83242",
      "metadata": {
        "id": "62a83242",
        "outputId": "7560ef7c-b5a4-4677-b042-37ffcf84e3e1"
      },
      "outputs": [
        {
          "name": "stdout",
          "output_type": "stream",
          "text": [
            "Series to dataframe:\n",
            "\n",
            "        NAME  ID\n",
            "0    Darshan  80\n",
            "1     Sudeep  90\n",
            "2       Siva  28\n",
            "3       Yash  57\n",
            "4  Keerthana  49\n"
          ]
        }
      ],
      "source": [
        "import pandas as pd\n",
        "a=pd.Series(['Darshan','Sudeep','Siva','Yash','Keerthana'])\n",
        "id=pd.Series([80,90,28,57,49])\n",
        "b={'NAME':a,'ID':id}\n",
        "res=pd.DataFrame(b)\n",
        "print(\"Series to dataframe:\\n\")\n",
        "print(res)"
      ]
    },
    {
      "cell_type": "code",
      "execution_count": null,
      "id": "5b69ca08",
      "metadata": {
        "id": "5b69ca08",
        "outputId": "ecda198f-8cc7-4da8-9b03-1b62f2693cde"
      },
      "outputs": [
        {
          "name": "stdout",
          "output_type": "stream",
          "text": [
            "Extracting one column:\n",
            "\n",
            "0      Darshan\n",
            "1       Sudeep\n",
            "2         Siva\n",
            "3         Yash\n",
            "4    Keerthana\n",
            "Name: NAME, dtype: object\n"
          ]
        }
      ],
      "source": [
        "import pandas as pd\n",
        "a=pd.Series(['Darshan','Sudeep','Siva','Yash','Keerthana'])\n",
        "id=pd.Series([80,90,28,57,49])\n",
        "b={'NAME':a,'ID':id}\n",
        "res=pd.DataFrame(b)\n",
        "print(\"Extracting one column:\\n\")\n",
        "print(res['NAME'])"
      ]
    },
    {
      "cell_type": "code",
      "execution_count": null,
      "id": "f9ecf124",
      "metadata": {
        "id": "f9ecf124",
        "outputId": "7e68683a-ff12-46f9-f60d-bafffdd34305"
      },
      "outputs": [
        {
          "name": "stdout",
          "output_type": "stream",
          "text": [
            "Adding new columns:\n",
            "\n",
            "        NAME  ID  Age  AGE\n",
            "0    Darshan  80   30   30\n",
            "1     Sudeep  90   28   28\n",
            "2       Siva  28   37   37\n",
            "3       Yash  57   25   25\n",
            "4  Keerthana  49   26   26\n"
          ]
        }
      ],
      "source": [
        "import pandas as pd\n",
        "a=pd.Series(['Darshan','Sudeep','Siva','Yash','Keerthana'])\n",
        "id=pd.Series([80,90,28,57,49])\n",
        "b={'NAME':a,'ID':id}\n",
        "print(\"Adding new columns:\\n\")\n",
        "res['Age']=pd.Series([30,28,37,25,26])\n",
        "print(res)"
      ]
    },
    {
      "cell_type": "code",
      "execution_count": null,
      "id": "ee1e8cd0",
      "metadata": {
        "id": "ee1e8cd0",
        "outputId": "a030298e-479f-4aa9-813b-c26ddaccc967"
      },
      "outputs": [
        {
          "name": "stdout",
          "output_type": "stream",
          "text": [
            "Extracting the second row:\n",
            " NAME    Sudeep\n",
            "ID          90\n",
            "AGE         28\n",
            "Name: 1, dtype: object\n"
          ]
        }
      ],
      "source": [
        "import pandas as pd\n",
        "a=pd.Series(['Darshan','Sudeep','Siva','Yash','Keerthana'])\n",
        "id=pd.Series([80,90,28,57,49])\n",
        "age=pd.Series([30,28,37,25,26])\n",
        "b={'NAME':a,'ID':id,'AGE':age}\n",
        "res=pd.DataFrame(b)\n",
        "print(\"Extracting the second row:\\n\",res.loc[1])"
      ]
    },
    {
      "cell_type": "code",
      "execution_count": null,
      "id": "4deda998",
      "metadata": {
        "id": "4deda998",
        "outputId": "1a6412e2-5437-4ae6-a301-cf04587e235e"
      },
      "outputs": [
        {
          "name": "stdout",
          "output_type": "stream",
          "text": [
            "Deleting one column:\n",
            "        NAME  ID\n",
            "0    Darshan  80\n",
            "1     Sudeep  90\n",
            "2       Siva  28\n",
            "3       Yash  57\n",
            "4  Keerthana  49\n"
          ]
        }
      ],
      "source": [
        "import pandas as pd\n",
        "a=pd.Series(['Darshan','Sudeep','Siva','Yash','Keerthana'])\n",
        "id=pd.Series([80,90,28,57,49])\n",
        "age=pd.Series([30,28,37,25,26])\n",
        "b={'NAME':a,'ID':id,'AGE':age}\n",
        "res=pd.DataFrame(b)\n",
        "print(\"Deleting one column:\")\n",
        "del res['AGE']\n",
        "print(res)"
      ]
    },
    {
      "cell_type": "code",
      "source": [
        "import pandas as pd\n",
        "a=pd.Series(['Darshan','Sudeep','Siva','Yash','Keerthana'])\n",
        "id=pd.Series([80,90,28,57,49])\n",
        "age=pd.Series([30,28,37,25,26])\n",
        "b={'NAME':a,'ID':id,'AGE':age}\n",
        "res=pd.DataFrame(b)\n",
        "print(\"Slice rows :\\n\",res[1:4])"
      ],
      "metadata": {
        "colab": {
          "base_uri": "https://localhost:8080/"
        },
        "id": "Q9p_VxBdGl7E",
        "outputId": "ac28c091-06e8-458d-8515-4b1c8942190f"
      },
      "id": "Q9p_VxBdGl7E",
      "execution_count": 1,
      "outputs": [
        {
          "output_type": "stream",
          "name": "stdout",
          "text": [
            "Slice rows :\n",
            "      NAME  ID  AGE\n",
            "1  Sudeep  90   28\n",
            "2    Siva  28   37\n",
            "3    Yash  57   25\n"
          ]
        }
      ]
    },
    {
      "cell_type": "code",
      "source": [
        "import pandas as pd\n",
        "a=pd.Series(['Darshan','Sudeep','Siva','Yash','Keerthana'])\n",
        "id=pd.Series([80,90,28,57,49])\n",
        "b={'NAME':a,'ID':id}\n",
        "res=pd.DataFrame(b)\n",
        "d=pd.DataFrame([['Charan',30],['Prashanth',60]],columns=['NAME','ID'])\n",
        "print(\"Adding new row values:\\n\",pd.concat([res,d]))"
      ],
      "metadata": {
        "colab": {
          "base_uri": "https://localhost:8080/"
        },
        "id": "1Q_Skg8bHVLM",
        "outputId": "6e1965de-3f64-4e05-8ede-491605d2a632"
      },
      "id": "1Q_Skg8bHVLM",
      "execution_count": 4,
      "outputs": [
        {
          "output_type": "stream",
          "name": "stdout",
          "text": [
            "Adding new row values:\n",
            "         NAME  ID\n",
            "0    Darshan  80\n",
            "1     Sudeep  90\n",
            "2       Siva  28\n",
            "3       Yash  57\n",
            "4  Keerthana  49\n",
            "0     Charan  30\n",
            "1  Prashanth  60\n"
          ]
        }
      ]
    },
    {
      "cell_type": "code",
      "source": [
        "import pandas as pd\n",
        "a=pd.Series(['Darshan','Sudeep','Siva','Yash','Keerthana'])\n",
        "id=pd.Series([80,90,28,57,49])\n",
        "age=pd.Series([30,28,37,25,26])\n",
        "b={'NAME':a,'ID':id,'AGE':age}\n",
        "res=pd.DataFrame(b)\n",
        "print(\"Deleting particular row:\\n\",res.drop(4))"
      ],
      "metadata": {
        "colab": {
          "base_uri": "https://localhost:8080/"
        },
        "id": "8vHr8uyTIZYC",
        "outputId": "b11960ef-fdc1-4af0-a4f6-2b8c9bb75523"
      },
      "id": "8vHr8uyTIZYC",
      "execution_count": 5,
      "outputs": [
        {
          "output_type": "stream",
          "name": "stdout",
          "text": [
            "Deleting particular row:\n",
            "       NAME  ID  AGE\n",
            "0  Darshan  80   30\n",
            "1   Sudeep  90   28\n",
            "2     Siva  28   37\n",
            "3     Yash  57   25\n"
          ]
        }
      ]
    }
  ],
  "metadata": {
    "kernelspec": {
      "display_name": "Python 3 (ipykernel)",
      "language": "python",
      "name": "python3"
    },
    "language_info": {
      "codemirror_mode": {
        "name": "ipython",
        "version": 3
      },
      "file_extension": ".py",
      "mimetype": "text/x-python",
      "name": "python",
      "nbconvert_exporter": "python",
      "pygments_lexer": "ipython3",
      "version": "3.11.4"
    },
    "colab": {
      "provenance": []
    }
  },
  "nbformat": 4,
  "nbformat_minor": 5
}