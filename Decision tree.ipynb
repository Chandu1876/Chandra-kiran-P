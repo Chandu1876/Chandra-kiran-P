{
 "cells": [
  {
   "cell_type": "code",
   "execution_count": 44,
   "id": "3a74cdd8-061b-4302-8791-65345765aebc",
   "metadata": {},
   "outputs": [
    {
     "name": "stdout",
     "output_type": "stream",
     "text": [
      "      Name  Age  Gender  Income\n",
      "0    Alice   30  Female   60000\n",
      "1      Bob   25    Male   50000\n",
      "2  Charlie   35    Male   70000\n",
      "3    David   40    Male   80000\n",
      "4      Eva   22  Female   45000\n"
     ]
    }
   ],
   "source": [
    "import matplotlib.pyplot as plt\n",
    "import pandas as pd\n",
    "from sklearn.tree import DecisionTreeClassifier,plot_tree\n",
    "a = pd.read_csv(\"data.csv\") \n",
    "print(a)"
   ]
  },
  {
   "cell_type": "code",
   "execution_count": 60,
   "id": "a7fda0dd-00ed-40c7-8766-1733d543ac39",
   "metadata": {},
   "outputs": [
    {
     "data": {
      "image/png": "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
      text/plain": [
       "<Figure size 1200x800 with 1 Axes>"
      ]
     },
     "metadata": {},
     "output_type": "display_data"
    }
   ],
   "source": [
    "gender= {'Female': 0, 'Male': 1}\n",
    "a['Gender'] = a['Gender'].map(gender)\n",
    "features = ['Age', 'Gender']\n",
    "p = a[features]\n",
    "q = a['Income']\n",
    "dtree = DecisionTreeClassifier()\n",
    "dtree.fit(p, q)\n",
    "plt.figure(figsize=(12,8))\n",
    "plot_tree(dtree, feature_names=features,filled=True)\n",
    "plt.show()"
   ]
  }
 ],
 "metadata": {
  "kernelspec": {
   "display_name": "Python [conda env:base] *",
   "language": "python",
   "name": "conda-base-py"
  },
  "language_info": {
   "codemirror_mode": {
    "name": "ipython",
    "version": 3
   },
   "file_extension": ".py",
   "mimetype": "text/x-python",
   "name": "python",
   "nbconvert_exporter": "python",
   "pygments_lexer": "ipython3",
   "version": "3.12.2"
  }
 },
 "nbformat": 4,
 "nbformat_minor": 5
}
