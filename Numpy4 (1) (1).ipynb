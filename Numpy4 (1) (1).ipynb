{
 "cells": [
  {
   "cell_type": "code",
   "execution_count": 1,
   "id": "15d0d994",
   "metadata": {},
   "outputs": [
    {
     "name": "stdout",
     "output_type": "stream",
     "text": [
      "[20 40 50 70 10]\n",
      "[6 2 9 7 1]\n",
      "[26 42 59 77 11]\n",
      "[14 38 41 63  9]\n",
      "[120  80 450 490  10]\n",
      "[ 3.33333333 20.          5.55555556 10.         10.        ]\n",
      "1150\n",
      "Result: [ 60 120 150 210  30]\n"
     ]
    }
   ],
   "source": [
    "import numpy as np\n",
    "a1=[20,40,50,70,10]\n",
    "a2=[6,2,9,7,1]\n",
    "a=np.array(a1)\n",
    "b=np.array(a2)\n",
    "print(a)\n",
    "print(b)\n",
    "print(a+b)\n",
    "print(a-b)\n",
    "print(a*b)\n",
    "print(a/b)\n",
    "print(a.dot(b))\n",
    "sclr=3\n",
    "print(\"Result:\",a*sclr)"
   ]
  },
  {
   "cell_type": "code",
   "execution_count": 2,
   "id": "9ea114a8",
   "metadata": {},
   "outputs": [
    {
     "name": "stdout",
     "output_type": "stream",
     "text": [
      "[[1 6]\n",
      " [0 4]]\n"
     ]
    }
   ],
   "source": [
    "import numpy as np\n",
    "a=np.array([[10,20],[30,40]])\n",
    "b=np.array([[3,7],[5,9]])\n",
    "print(a%b)\n"
   ]
  },
  {
   "cell_type": "code",
   "execution_count": 17,
   "id": "2c0b459c",
   "metadata": {},
   "outputs": [
    {
     "name": "stdout",
     "output_type": "stream",
     "text": [
      "Array 1: [10, 7, 2]\n",
      "Array 2: [6, 5, 3]\n",
      "Result: [4 2 5]\n"
     ]
    }
   ],
   "source": [
    "def myfunc(x,y):\n",
    "    if x>y:\n",
    "        return x-y\n",
    "    else:\n",
    "        return x+y\n",
    "import numpy as np\n",
    "a1=[10,7,2]\n",
    "a2=[6,5,3]\n",
    "vectfunc=np.vectorize(myfunc)\n",
    "print(\"Array 1:\",a1)\n",
    "print(\"Array 2:\",a2)\n",
    "print(\"Result:\",vectfunc(a1,a2))"
   ]
  },
  {
   "cell_type": "code",
   "execution_count": null,
   "id": "42096bcc",
   "metadata": {},
   "outputs": [],
   "source": []
  }
 ],
 "metadata": {
  "kernelspec": {
   "display_name": "Python 3 (ipykernel)",
   "language": "python",
   "name": "python3"
  },
  "language_info": {
   "codemirror_mode": {
    "name": "ipython",
    "version": 3
   },
   "file_extension": ".py",
   "mimetype": "text/x-python",
   "name": "python",
   "nbconvert_exporter": "python",
   "pygments_lexer": "ipython3",
   "version": "3.11.4"
  }
 },
 "nbformat": 4,
 "nbformat_minor": 5
}
