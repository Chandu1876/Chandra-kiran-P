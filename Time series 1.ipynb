{
 "cells": [
  {
   "cell_type": "code",
   "execution_count": 1,
   "id": "069d425a",
   "metadata": {},
   "outputs": [
    {
     "name": "stdout",
     "output_type": "stream",
     "text": [
      "2025-04-07 09:19:36.808719\n"
     ]
    }
   ],
   "source": [
    "import datetime\n",
    "a=datetime.datetime.now()\n",
    "today=datetime.datetime.today()\n",
    "print(today)"
   ]
  },
  {
   "cell_type": "code",
   "execution_count": 3,
   "id": "44995b00",
   "metadata": {},
   "outputs": [
    {
     "name": "stdout",
     "output_type": "stream",
     "text": [
      "2025-04-10 09:19:36.808719\n"
     ]
    }
   ],
   "source": [
    "threedays_after=today+datetime.timedelta(days=3)\n",
    "print(threedays_after)"
   ]
  },
  {
   "cell_type": "code",
   "execution_count": 9,
   "id": "0f518523",
   "metadata": {},
   "outputs": [
    {
     "name": "stdout",
     "output_type": "stream",
     "text": [
      "2025-04-06 09:19:36.808719\n"
     ]
    }
   ],
   "source": [
    "yesterday=today-datetime.timedelta(days=1)\n",
    "print(yesterday)"
   ]
  },
  {
   "cell_type": "code",
   "execution_count": 13,
   "id": "9567c67d",
   "metadata": {},
   "outputs": [
    {
     "name": "stdout",
     "output_type": "stream",
     "text": [
      "2025-04-05 2025-04-01\n"
     ]
    }
   ],
   "source": [
    "from datetime import date\n",
    "d=date(2025,4,5)\n",
    "print(d,d.replace(day=1))"
   ]
  },
  {
   "cell_type": "code",
   "execution_count": 14,
   "id": "866ece52",
   "metadata": {},
   "outputs": [
    {
     "name": "stdout",
     "output_type": "stream",
     "text": [
      "2025-04-05 Sat Apr  5 00:00:00 2025\n"
     ]
    }
   ],
   "source": [
    "t=date(2025,4,5)\n",
    "d=date(2025,4,5).ctime()\n",
    "print(t,d)"
   ]
  },
  {
   "cell_type": "code",
   "execution_count": 16,
   "id": "74d1df40",
   "metadata": {},
   "outputs": [
    {
     "name": "stdout",
     "output_type": "stream",
     "text": [
      "2025-04-07\n",
      "2025\n",
      "4\n",
      "7\n"
     ]
    }
   ],
   "source": [
    "today=date.today()\n",
    "print(today)\n",
    "print(today.year)\n",
    "print(today.month)\n",
    "print(today.day)"
   ]
  }
 ],
 "metadata": {
  "kernelspec": {
   "display_name": "Python 3 (ipykernel)",
   "language": "python",
   "name": "python3"
  },
  "language_info": {
   "codemirror_mode": {
    "name": "ipython",
    "version": 3
   },
   "file_extension": ".py",
   "mimetype": "text/x-python",
   "name": "python",
   "nbconvert_exporter": "python",
   "pygments_lexer": "ipython3",
   "version": "3.11.4"
  }
 },
 "nbformat": 4,
 "nbformat_minor": 5
}
